{
 "cells": [
  {
   "cell_type": "code",
   "execution_count": 1,
   "metadata": {},
   "outputs": [],
   "source": [
    "# importing libraries\n",
    "\n",
    "import matplotlib as mpl\n",
    "import matplotlib.pyplot as plt\n",
    "import numpy as np\n",
    "import pandas as pd\n",
    "import pyrsm as rsm\n",
    "import statsmodels.formula.api as smf\n",
    "from sklearn import preprocessing\n",
    "from statsmodels.genmod.families import Binomial\n",
    "from statsmodels.genmod.families.links import logit\n",
    "from math import sqrt\n",
    "from sklearn import metrics\n",
    "from sklearn.ensemble import RandomForestClassifier\n",
    "from sklearn.model_selection import GridSearchCV\n"
   ]
  },
  {
   "cell_type": "code",
   "execution_count": 2,
   "metadata": {},
   "outputs": [],
   "source": [
    "# loading the data \n",
    "\n",
    "intuit75k = pd.read_pickle(\"data/intuit75k.pkl\")\n",
    "intuit75k[\"res1_yes\"] = (intuit75k[\"res1\"] == \"Yes\").astype(int)"
   ]
  },
  {
   "cell_type": "code",
   "execution_count": 3,
   "metadata": {},
   "outputs": [
    {
     "name": "stdout",
     "output_type": "stream",
     "text": [
      "Random Forest - Data Pre-processing\n",
      "\n",
      "Before building and loading a random forest model, we will pre-process the data. To do so, we added the new zip code variables for 00801 and 00804 and converted the zip bins and sex variables to dummies.\n",
      " \n"
     ]
    }
   ],
   "source": [
    "print(f'Random Forest - Data Pre-processing\\n')\n",
    "print(f'Before building and loading a random forest model, we will pre-process the data. To do so, we added the new zip code variables for 00801 and 00804 and converted the zip bins and sex variables to dummies.\\n ') "
   ]
  },
  {
   "cell_type": "code",
   "execution_count": 4,
   "metadata": {},
   "outputs": [],
   "source": [
    "# setting up variables to track column names as needed\n",
    "\n",
    "rvar = \"res1_yes\"\n",
    "evar = [\n",
    "    \"zip_bins_1\",\n",
    "    \"zip_bins_2\",\n",
    "    \"zip_bins_3\",\n",
    "    \"zip_bins_4\",\n",
    "    \"zip_bins_5\",\n",
    "    \"zip_bins_6\",\n",
    "    \"zip_bins_7\",\n",
    "    \"zip_bins_8\",\n",
    "    \"zip_bins_9\",\n",
    "    \"zip_bins_10\",\n",
    "    \"zip_bins_11\",\n",
    "    \"zip_bins_12\",\n",
    "    \"zip_bins_13\",\n",
    "    \"zip_bins_14\",\n",
    "    \"zip_bins_15\",\n",
    "    \"zip_bins_16\",\n",
    "    \"zip_bins_17\",\n",
    "    \"zip_bins_18\",\n",
    "    \"zip_bins_19\",\n",
    "    \"zip_bins_20\",\n",
    "    \"numords\",\n",
    "    \"dollars\",\n",
    "    \"last\",\n",
    "    \"version1\",\n",
    "    \"bizflag\",\n",
    "    \"sincepurch\",\n",
    "    \"owntaxprod\",\n",
    "    \"upgraded\",\n",
    "    \"zip801\",\n",
    "    \"zip804\",\n",
    "    \"sex_Male\",\n",
    "    \"sex_Female\",\n",
    "    \"sex_Unknown\",\n",
    "]\n",
    "idvar=\"id\""
   ]
  },
  {
   "cell_type": "code",
   "execution_count": 5,
   "metadata": {},
   "outputs": [],
   "source": [
    "# converting types of variables and creation of necessary new variables\n",
    "\n",
    "intuit75k[\"zip_bins\"] = intuit75k[\"zip_bins\"].astype(\"category\")\n",
    "intuit75k[\"version1\"] = intuit75k[\"version1\"].astype(\"category\")\n",
    "intuit75k[\"owntaxprod\"] = intuit75k[\"owntaxprod\"].astype(\"category\")\n",
    "intuit75k[\"upgraded\"] = intuit75k[\"upgraded\"].astype(\"category\")\n",
    "intuit75k[\"bizflag\"] = intuit75k[\"bizflag\"].astype(\"category\")\n",
    "\n",
    "intuit75k[\"zip801\"] = (intuit75k[\"zip\"] == \"00801\").astype(int)\n",
    "intuit75k[\"zip804\"] = (intuit75k[\"zip\"] == \"00804\").astype(int)\n",
    "intuit75k[\"zip801\"] = intuit75k[\"zip801\"].astype(\"category\")\n",
    "intuit75k[\"zip804\"] = intuit75k[\"zip804\"].astype(\"category\")"
   ]
  },
  {
   "cell_type": "code",
   "execution_count": 6,
   "metadata": {},
   "outputs": [],
   "source": [
    "# creation of necessary dummy variables\n",
    "\n",
    "int_std = intuit75k.copy()\n",
    "pq= pd.get_dummies(\n",
    "    int_std[\n",
    "        [\n",
    "            \"zip_bins\",\"sex\"\n",
    "        ]\n",
    "    ]\n",
    ")\n",
    "int_std = int_std.join(pq)\n",
    "train = int_std[int_std['training'] == 1]\n",
    "test = int_std[int_std['training'] == 0]"
   ]
  },
  {
   "cell_type": "code",
   "execution_count": 7,
   "metadata": {},
   "outputs": [],
   "source": [
    "# dataframe for storing the results for evaluation of different models\n",
    "\n",
    "eval_dat = pd.concat([train, test], axis=0)\n",
    "eval_dat = eval_dat[[idvar, rvar, \"training\"]]\n",
    "\n",
    "X_train = train[evar]\n",
    "y_train = train[rvar]\n",
    "X_test = test[evar]\n",
    "y_test = test[rvar]"
   ]
  },
  {
   "cell_type": "code",
   "execution_count": 8,
   "metadata": {},
   "outputs": [
    {
     "name": "stdout",
     "output_type": "stream",
     "text": [
      "Random Forest Model \n",
      "\n"
     ]
    }
   ],
   "source": [
    "print(f'Random Forest Model \\n') "
   ]
  },
  {
   "cell_type": "code",
   "execution_count": 9,
   "metadata": {},
   "outputs": [],
   "source": [
    "# Random Forest base model\n",
    "\n",
    "clf = RandomForestClassifier(\n",
    "    n_estimators=100, max_features=3, oob_score=True, random_state=1234\n",
    ").fit(X_train, y_train)"
   ]
  },
  {
   "cell_type": "code",
   "execution_count": 10,
   "metadata": {},
   "outputs": [],
   "source": [
    "# Predictions of base model\n",
    "\n",
    "eval_dat[\"y_rf\"] = clf.predict_proba(pd.concat((X_train, X_test), axis=0))[:, 1]\n",
    "eval_dat[\"y_rf_oob\"] = 0  \n",
    "eval_dat.loc[eval_dat.training == 1, \"y_rf_oob\"] = clf.oob_decision_function_[:, 1]\n",
    "eval_dat.loc[eval_dat.training == 0, \"y_rf_oob\"] = clf.predict_proba(X_test)[:, 1]"
   ]
  },
  {
   "cell_type": "markdown",
   "metadata": {},
   "source": [
    "Evalbin commented out for gitlab purposes"
   ]
  },
  {
   "cell_type": "code",
   "execution_count": 11,
   "metadata": {},
   "outputs": [
    {
     "data": {
      "text/html": [
       "<div>\n",
       "<style scoped>\n",
       "    .dataframe tbody tr th:only-of-type {\n",
       "        vertical-align: middle;\n",
       "    }\n",
       "\n",
       "    .dataframe tbody tr th {\n",
       "        vertical-align: top;\n",
       "    }\n",
       "\n",
       "    .dataframe thead th {\n",
       "        text-align: right;\n",
       "    }\n",
       "</style>\n",
       "<table border=\"1\" class=\"dataframe\">\n",
       "  <thead>\n",
       "    <tr style=\"text-align: right;\">\n",
       "      <th></th>\n",
       "      <th>Type</th>\n",
       "      <th>predictor</th>\n",
       "      <th>TP</th>\n",
       "      <th>FP</th>\n",
       "      <th>TN</th>\n",
       "      <th>FN</th>\n",
       "      <th>total</th>\n",
       "      <th>TPR</th>\n",
       "      <th>TNR</th>\n",
       "      <th>precision</th>\n",
       "      <th>Fscore</th>\n",
       "      <th>accuracy</th>\n",
       "      <th>kappa</th>\n",
       "      <th>profit</th>\n",
       "      <th>index</th>\n",
       "      <th>ROME</th>\n",
       "      <th>contact</th>\n",
       "      <th>AUC</th>\n",
       "    </tr>\n",
       "  </thead>\n",
       "  <tbody>\n",
       "    <tr>\n",
       "      <th>0</th>\n",
       "      <td>training</td>\n",
       "      <td>y_rf</td>\n",
       "      <td>2498</td>\n",
       "      <td>9942</td>\n",
       "      <td>40060</td>\n",
       "      <td>0</td>\n",
       "      <td>52500</td>\n",
       "      <td>1.000</td>\n",
       "      <td>0.801</td>\n",
       "      <td>0.201</td>\n",
       "      <td>0.334</td>\n",
       "      <td>0.811</td>\n",
       "      <td>0.277</td>\n",
       "      <td>132339.60</td>\n",
       "      <td>1.000</td>\n",
       "      <td>7.545</td>\n",
       "      <td>0.237</td>\n",
       "      <td>1.000</td>\n",
       "    </tr>\n",
       "    <tr>\n",
       "      <th>1</th>\n",
       "      <td>training</td>\n",
       "      <td>y_rf_oob</td>\n",
       "      <td>1873</td>\n",
       "      <td>24075</td>\n",
       "      <td>25927</td>\n",
       "      <td>625</td>\n",
       "      <td>52500</td>\n",
       "      <td>0.750</td>\n",
       "      <td>0.519</td>\n",
       "      <td>0.072</td>\n",
       "      <td>0.132</td>\n",
       "      <td>0.530</td>\n",
       "      <td>0.049</td>\n",
       "      <td>75793.32</td>\n",
       "      <td>0.573</td>\n",
       "      <td>2.072</td>\n",
       "      <td>0.494</td>\n",
       "      <td>0.706</td>\n",
       "    </tr>\n",
       "    <tr>\n",
       "      <th>2</th>\n",
       "      <td>test</td>\n",
       "      <td>y_rf</td>\n",
       "      <td>775</td>\n",
       "      <td>8891</td>\n",
       "      <td>12506</td>\n",
       "      <td>328</td>\n",
       "      <td>22500</td>\n",
       "      <td>0.703</td>\n",
       "      <td>0.584</td>\n",
       "      <td>0.080</td>\n",
       "      <td>0.144</td>\n",
       "      <td>0.590</td>\n",
       "      <td>0.061</td>\n",
       "      <td>32870.94</td>\n",
       "      <td>1.000</td>\n",
       "      <td>2.412</td>\n",
       "      <td>0.430</td>\n",
       "      <td>0.712</td>\n",
       "    </tr>\n",
       "    <tr>\n",
       "      <th>3</th>\n",
       "      <td>test</td>\n",
       "      <td>y_rf_oob</td>\n",
       "      <td>775</td>\n",
       "      <td>8891</td>\n",
       "      <td>12506</td>\n",
       "      <td>328</td>\n",
       "      <td>22500</td>\n",
       "      <td>0.703</td>\n",
       "      <td>0.584</td>\n",
       "      <td>0.080</td>\n",
       "      <td>0.144</td>\n",
       "      <td>0.590</td>\n",
       "      <td>0.061</td>\n",
       "      <td>32870.94</td>\n",
       "      <td>1.000</td>\n",
       "      <td>2.412</td>\n",
       "      <td>0.430</td>\n",
       "      <td>0.712</td>\n",
       "    </tr>\n",
       "  </tbody>\n",
       "</table>\n",
       "</div>"
      ],
      "text/plain": [
       "       Type predictor    TP     FP     TN   FN  total    TPR    TNR  \\\n",
       "0  training      y_rf  2498   9942  40060    0  52500  1.000  0.801   \n",
       "1  training  y_rf_oob  1873  24075  25927  625  52500  0.750  0.519   \n",
       "2      test      y_rf   775   8891  12506  328  22500  0.703  0.584   \n",
       "3      test  y_rf_oob   775   8891  12506  328  22500  0.703  0.584   \n",
       "\n",
       "   precision  Fscore  accuracy  kappa     profit  index   ROME  contact    AUC  \n",
       "0      0.201   0.334     0.811  0.277  132339.60  1.000  7.545    0.237  1.000  \n",
       "1      0.072   0.132     0.530  0.049   75793.32  0.573  2.072    0.494  0.706  \n",
       "2      0.080   0.144     0.590  0.061   32870.94  1.000  2.412    0.430  0.712  \n",
       "3      0.080   0.144     0.590  0.061   32870.94  1.000  2.412    0.430  0.712  "
      ]
     },
     "execution_count": 11,
     "metadata": {},
     "output_type": "execute_result"
    }
   ],
   "source": [
    "# # Evaluation bin\n",
    "\n",
    "# dct = {\n",
    "#     \"training\": eval_dat[eval_dat.training == 1],\n",
    "#     \"test\": eval_dat[eval_dat.training == 0],\n",
    "# }\n",
    "# rsm.evalbin(dct, \"res1_yes\", 1, [\"y_rf\", \"y_rf_oob\"], cost=1.41, margin=60)"
   ]
  },
  {
   "cell_type": "code",
   "execution_count": 12,
   "metadata": {},
   "outputs": [
    {
     "name": "stdout",
     "output_type": "stream",
     "text": [
      "Cross validation to get best parameters \n",
      "\n"
     ]
    }
   ],
   "source": [
    "print(f'Cross validation to get best parameters \\n') "
   ]
  },
  {
   "cell_type": "code",
   "execution_count": 13,
   "metadata": {},
   "outputs": [
    {
     "name": "stdout",
     "output_type": "stream",
     "text": [
      "Fitting 5 folds for each of 30 candidates, totalling 150 fits\n",
      "The best parameters are {'max_depth': 7, 'max_features': 4, 'n_estimators': 400, 'random_state': 200}\n",
      "The best score is 0.7634082841204135\n",
      "The AUC for the prediction is 0.7952042006390201\n",
      "\n"
     ]
    }
   ],
   "source": [
    "# Random Forest with cross validation and grid search\n",
    "\n",
    "clf1 = RandomForestClassifier()\n",
    "param_grid = {\n",
    "    \"n_estimators\": list(range(100, 501, 100)),\n",
    "    \"max_features\": range(3, 5),\n",
    "    \"max_depth\": range(5,8),\n",
    "    \"random_state\": [200],\n",
    "}\n",
    "scoring = {\"AUC\": \"roc_auc\"}\n",
    "\n",
    "clf_cv = GridSearchCV(\n",
    "    clf1, param_grid, scoring=scoring, cv=5, n_jobs=4, refit=\"AUC\", verbose=5,\n",
    ").fit(X_train, y_train)\n",
    "\n",
    "print(f\"\"\"The best parameters are {clf_cv.best_params_}\"\"\")\n",
    "print(f\"\"\"The best score is {clf_cv.best_score_}\"\"\")\n",
    "pred = clf_cv.predict_proba(X_train)\n",
    "fpr, tpr, thresholds = metrics.roc_curve(y_train.values, pred[:, 1])\n",
    "auc_rf = metrics.auc(fpr, tpr)\n",
    "print(f\"\"\"The AUC for the prediction is {auc_rf}\\n\"\"\")"
   ]
  },
  {
   "cell_type": "code",
   "execution_count": 14,
   "metadata": {},
   "outputs": [
    {
     "name": "stdout",
     "output_type": "stream",
     "text": [
      "Final Random Forest model with best parameters \n",
      "\n"
     ]
    }
   ],
   "source": [
    "print(f'Final Random Forest model with best parameters \\n')"
   ]
  },
  {
   "cell_type": "code",
   "execution_count": 15,
   "metadata": {},
   "outputs": [
    {
     "name": "stdout",
     "output_type": "stream",
     "text": [
      "The AUC score of final model is 0.7059964919257514\n"
     ]
    }
   ],
   "source": [
    "# Final model with best parameters\n",
    "\n",
    "clf_final = RandomForestClassifier(\n",
    "    n_estimators = clf_cv.best_params_[\"n_estimators\"],\n",
    "    max_features = clf_cv.best_params_[\"max_features\"],\n",
    "    oob_score = True,\n",
    "    random_state = 200,\n",
    "    max_depth = 11,\n",
    "    \n",
    ").fit(X_train, y_train)\n",
    "pred_final = clf.oob_decision_function_\n",
    "fpr, tpr, thresholds = metrics.roc_curve(y_train.values, pred_final[:, 1])\n",
    "auc_rf = metrics.auc(fpr, tpr)\n",
    "print(f\"\"\"The AUC score of final model is {auc_rf}\"\"\")"
   ]
  },
  {
   "cell_type": "code",
   "execution_count": 16,
   "metadata": {},
   "outputs": [],
   "source": [
    "# Predictions on final model\n",
    "\n",
    "eval_dat[\"y_rf_cv\"] = 0  \n",
    "eval_dat.loc[eval_dat.training == 1, \"y_rf_cv\"] = clf_final.oob_decision_function_[:, 1]\n",
    "eval_dat.loc[eval_dat.training == 0, \"y_rf_cv\"] = clf_final.predict_proba(X_test)[:, 1]"
   ]
  },
  {
   "cell_type": "code",
   "execution_count": 17,
   "metadata": {},
   "outputs": [
    {
     "name": "stdout",
     "output_type": "stream",
     "text": [
      "Profit Calculations and Plots \n",
      "\n"
     ]
    }
   ],
   "source": [
    "print(f'Profit Calculations and Plots \\n')"
   ]
  },
  {
   "cell_type": "code",
   "execution_count": 18,
   "metadata": {},
   "outputs": [
    {
     "name": "stdout",
     "output_type": "stream",
     "text": [
      "The Profit for test set in wave 1 is $37,725 \n"
     ]
    }
   ],
   "source": [
    "# calculating the profit for wave-1 on test set\n",
    "\n",
    "testing_set = eval_dat[eval_dat[\"training\"] == 0]\n",
    "nn_prof1 = rsm.profit(\n",
    "    pred = pd.Series(eval_dat[\"y_rf_cv\"]),\n",
    "    rvar = testing_set[\"res1_yes\"],\n",
    "    lev = 1,\n",
    "    cost = 1.41,\n",
    "    margin = 60,\n",
    ")\n",
    "\n",
    "print(f\"\"\"The Profit for test set in wave 1 is ${int(nn_prof1):,} \"\"\")"
   ]
  },
  {
   "cell_type": "code",
   "execution_count": 19,
   "metadata": {},
   "outputs": [],
   "source": [
    "# calculating the profit for wave-2\n",
    "\n",
    "def w2_profit(resp):\n",
    "    # calculating the profit for wave-2 on test set\n",
    "    breakeven = 1.41 / 60\n",
    "    wave2_target = 763334\n",
    "    eval_dat['mod_resp'] = eval_dat[resp] * 0.5\n",
    "    eval_dat['mod_mail'] = eval_dat['mod_resp'] > breakeven\n",
    "    df=eval_dat[eval_dat['training']==0]\n",
    "    \n",
    "    mail_true = sum(df['mod_mail']) #num of yes in test set\n",
    "    mail_true_rate = mail_true / df.shape[0] #proportion to yes is test set\n",
    "    buy_true = df[(df['mod_mail']==True) & (df['res1_yes']==1)] #true positives\n",
    "    \n",
    "    mail_number = wave2_target * mail_true_rate \n",
    "    adjusted_rr = (buy_true.shape[0] * 0.5) / mail_true\n",
    "    wave2_buyers = adjusted_rr * mail_number\n",
    "   \n",
    "    mail_cost = 1.41 * mail_number\n",
    "    profit = 60 * wave2_buyers - mail_cost\n",
    "    rome = profit / mail_cost\n",
    "    \n",
    "    return profit,rome"
   ]
  },
  {
   "cell_type": "code",
   "execution_count": 20,
   "metadata": {},
   "outputs": [
    {
     "name": "stdout",
     "output_type": "stream",
     "text": [
      "Wave-2 Scaled Campaign: The Profit is $442,131 and the the return on investment is 137.21% \n"
     ]
    }
   ],
   "source": [
    "scaled_prof, scaled_rome = w2_profit(\"y_rf_cv\")\n",
    "\n",
    "\n",
    "print(\n",
    "    f\"\"\"Wave-2 Scaled Campaign: The Profit is ${int(scaled_prof):,} and the the return on investment is {round(float(scaled_rome)*100,2):,}% \"\"\"\n",
    ")"
   ]
  },
  {
   "cell_type": "code",
   "execution_count": 21,
   "metadata": {},
   "outputs": [],
   "source": [
    "# lift and gains plot\n",
    "\n",
    "def plot(resp):\n",
    "    # lift and gains plot\n",
    "    w = 13\n",
    "    h = 4\n",
    "    d = 100\n",
    "    fig = plt.figure(figsize=(w, h), dpi=d)\n",
    "    fig.suptitle(f\"Cumulative Lift and Gains For Random Forest Model\")\n",
    "\n",
    "    fig1 = fig.add_subplot(122)\n",
    "    fig1.set_title(\"Cumulative Gains\")\n",
    "    fig1 = rsm.gains_plot(\n",
    "        {\n",
    "            \"Training\": eval_dat.query(\"training == 1\"),\n",
    "            \"Test\": eval_dat.query(\"training == 0\"),\n",
    "        },\n",
    "        rvar=\"res1_yes\",\n",
    "        pred=resp,\n",
    "        lev=1,\n",
    "        qnt=10,\n",
    "    )\n",
    "\n",
    "    fig2 = fig.add_subplot(121)\n",
    "    fig2.set_title(\"Cumulative Lift\")\n",
    "    fig2 = rsm.lift_plot(\n",
    "        {\n",
    "            \"Training\": eval_dat.query(\"training == 1\"),\n",
    "            \"Test\": eval_dat.query(\"training == 0\"),\n",
    "        },\n",
    "        rvar=\"res1_yes\",\n",
    "        pred=resp,\n",
    "        lev=1,\n",
    "        qnt=10,\n",
    "    )"
   ]
  },
  {
   "cell_type": "code",
   "execution_count": 22,
   "metadata": {},
   "outputs": [
    {
     "data": {
      "image/png": "[encoded data removed]",
      "text/plain": [
       "<Figure size 1300x400 with 2 Axes>"
      ]
     },
     "metadata": {
      "needs_background": "light"
     },
     "output_type": "display_data"
    }
   ],
   "source": [
    "plot('y_rf_cv')"
   ]
  },
  {
   "cell_type": "code",
   "execution_count": 23,
   "metadata": {},
   "outputs": [],
   "source": [
    "eval_dat.to_csv(\"./data/Random.csv\", index=False)"
   ]
  }
 ],
 "metadata": {
  "kernelspec": {
   "display_name": "Python 3",
   "language": "python",
   "name": "python3"
  },
  "language_info": {
   "codemirror_mode": {
    "name": "ipython",
    "version": 3
   },
   "file_extension": ".py",
   "mimetype": "text/x-python",
   "name": "python",
   "nbconvert_exporter": "python",
   "pygments_lexer": "ipython3",
   "version": "3.8.5"
  }
 },
 "nbformat": 4,
 "nbformat_minor": 4
}
