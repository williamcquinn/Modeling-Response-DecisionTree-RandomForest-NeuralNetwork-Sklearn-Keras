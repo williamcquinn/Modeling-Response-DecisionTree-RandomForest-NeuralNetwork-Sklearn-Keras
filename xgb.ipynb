{
 "cells": [
  {
   "cell_type": "code",
   "execution_count": 1,
   "metadata": {},
   "outputs": [],
   "source": [
    "import matplotlib as mpl\n",
    "import matplotlib.pyplot as plt\n",
    "import numpy as np\n",
    "import pandas as pd\n",
    "import pyrsm as rsm\n",
    "import statsmodels.formula.api as smf\n",
    "import xgboost as xgb\n",
    "from sklearn import metrics, preprocessing\n",
    "from sklearn.inspection import permutation_importance\n",
    "from sklearn.metrics import mean_squared_error\n",
    "from sklearn.model_selection import GridSearchCV, cross_val_score, train_test_split\n",
    "from sklearn.neural_network import MLPClassifier\n",
    "from sklearn.preprocessing import StandardScaler\n",
    "from statsmodels.genmod.families import Binomial\n",
    "from statsmodels.genmod.families.links import logit\n",
    "import warnings\n",
    "\n",
    "warnings.filterwarnings(\"ignore\")\n",
    "\n",
    "# increase plot resolution\n",
    "# mpl.rcParams[\"figure.dpi\"] = 150"
   ]
  },
  {
   "cell_type": "code",
   "execution_count": 3,
   "metadata": {},
   "outputs": [],
   "source": [
    "## loading the data - this dataset must NOT be changed\n",
    "intuit75k = pd.read_pickle(\"data/intuit75k.pkl\")\n",
    "intuit75k[\"res1_yes\"] = (intuit75k[\"res1\"] == \"Yes\").astype(int)\n",
    "#intuit75k.head()"
   ]
  },
  {
   "cell_type": "code",
   "execution_count": 4,
   "metadata": {},
   "outputs": [],
   "source": [
    "intuit75k = intuit75k.assign(\n",
    "    zip801=(intuit75k[\"zip\"] == \"00801\").astype(int),\n",
    "    zip804=(intuit75k[\"zip\"] == \"00804\").astype(int),\n",
    ")"
   ]
  },
  {
   "cell_type": "code",
   "execution_count": 5,
   "metadata": {},
   "outputs": [],
   "source": [
    "rvar = \"res1_yes\"\n",
    "var = [\n",
    "    \"zip_bins\",\n",
    "    \"sex\",\n",
    "    \"bizflag\",\n",
    "    \"version1\",\n",
    "    \"owntaxprod\",\n",
    "    \"upgraded\",\n",
    "    \"zip801\",\n",
    "    \"zip804\",\n",
    "]\n",
    "std_evars = [\n",
    "    \"numords\",\n",
    "    \"dollars\",\n",
    "    \"last\",\n",
    "    \"sincepurch\",\n",
    "]\n",
    "\n",
    "avar = [\n",
    "    \"zip_bins\",\n",
    "    \"sex\",\n",
    "    \"bizflag\",\n",
    "    \"version1\",\n",
    "    \"owntaxprod\",\n",
    "    \"upgraded\",\n",
    "    \"zip801\",\n",
    "    \"zip804\",\n",
    "    \"numords\",\n",
    "    \"dollars\",\n",
    "    \"last\",\n",
    "    \"sincepurch\",\n",
    "]\n",
    "evar = [\n",
    "    \"zip_bins\",\n",
    "    \"bizflag\",\n",
    "    \"version1\",\n",
    "    \"owntaxprod\",\n",
    "    \"upgraded\",\n",
    "    \"zip801\",\n",
    "    \"zip804\",\n",
    "    \"numords\",\n",
    "    \"dollars\",\n",
    "    \"last\",\n",
    "    \"sincepurch\",\n",
    "    \"Female\",\n",
    "    \"Male\",\n",
    "    \"Unknown\",\n",
    "]\n",
    "\n",
    "idvar = \"id\"\n",
    "lev = 1"
   ]
  },
  {
   "cell_type": "code",
   "execution_count": 6,
   "metadata": {},
   "outputs": [],
   "source": [
    "train = intuit75k.loc[intuit75k[\"training\"] == 1]\n",
    "test = intuit75k.loc[intuit75k[\"training\"] == 0]\n",
    "eval_dat = pd.concat([train, test], axis=0)\n",
    "eval_dat = eval_dat[[idvar, rvar, \"training\"]]\n",
    "X_train = train[avar]\n",
    "y_train = train[rvar]\n",
    "X_test = test[avar]\n",
    "y_test = test[rvar]"
   ]
  },
  {
   "cell_type": "code",
   "execution_count": 7,
   "metadata": {},
   "outputs": [],
   "source": [
    "X_train[[\"Female\", \"Male\", \"Unknown\"]] = pd.get_dummies(\n",
    "    X_train[\"sex\"], drop_first=False\n",
    ")\n",
    "X_train = X_train.drop([\"sex\"], axis=1)\n",
    "X_test[[\"Female\", \"Male\", \"Unknown\"]] = pd.get_dummies(X_test[\"sex\"], drop_first=False)\n",
    "X_test = X_test.drop([\"sex\"], axis=1)"
   ]
  },
  {
   "cell_type": "markdown",
   "metadata": {},
   "source": [
    "# XGBOOST"
   ]
  },
  {
   "cell_type": "code",
   "execution_count": 8,
   "metadata": {},
   "outputs": [],
   "source": [
    "# combining so we can predict for the full dataset as well\n",
    "Xs = np.concatenate((X_train, X_test), axis=0)"
   ]
  },
  {
   "cell_type": "code",
   "execution_count": 9,
   "metadata": {},
   "outputs": [],
   "source": [
    "clf = xgb.XGBClassifier(\n",
    "    min_child_weight=5,\n",
    "    colsample_bylevel=1,\n",
    "    max_delta_step=0,\n",
    "    scale_pos_weight=1,\n",
    "    alpha=1,\n",
    "    reg_lambda=0,\n",
    "    learning_rate=0.01,\n",
    "    subsample=0.8,\n",
    "    colsample_bytree=1,\n",
    "    gamma=1,\n",
    "    max_depth=3,\n",
    "    n_estimators=500,\n",
    "    objective=\"binary:logistic\",\n",
    "    use_label_encoder=False,\n",
    "    eval_metric=\"auc\",\n",
    "    random_state=1234,\n",
    ").fit(X_train, y_train.values, verbose=True)"
   ]
  },
  {
   "cell_type": "code",
   "execution_count": 10,
   "metadata": {},
   "outputs": [],
   "source": [
    "# predict for the entire dataset\n",
    "eval_dat[\"y_xgb\"] = clf.predict_proba(Xs)[:, 1]"
   ]
  },
  {
   "cell_type": "code",
   "execution_count": 11,
   "metadata": {},
   "outputs": [
    {
     "name": "stdout",
     "output_type": "stream",
     "text": [
      "AUC training data for model: 0.7773267812281904\n",
      "AUC test data for model: 0.7649020750953851\n"
     ]
    }
   ],
   "source": [
    "pred_train = clf.predict_proba(X_train)\n",
    "fpr, tpr, thresholds = metrics.roc_curve(y_train, pred_train[:,1])\n",
    "\n",
    "pred_test = clf.predict_proba(X_test)\n",
    "fpr_t, tpr_t, thresholds_t = metrics.roc_curve(y_test, pred_test[:,1])\n",
    "\n",
    "print(f\"AUC training data for model: {metrics.auc(fpr, tpr)}\")\n",
    "print(f\"AUC test data for model: {metrics.auc(fpr_t, tpr_t)}\")"
   ]
  },
  {
   "cell_type": "code",
   "execution_count": 12,
   "metadata": {},
   "outputs": [],
   "source": [
    "def w2_profit(resp):\n",
    "    # calculating the profit for wave-2 on test set\n",
    "    breakeven = 1.41 / 60\n",
    "    wave2_target = 763334\n",
    "    eval_dat['mod_resp'] = eval_dat[resp] * 0.5\n",
    "    eval_dat['mod_mail'] = eval_dat['mod_resp'] > breakeven\n",
    "    df = eval_dat[eval_dat['training']==0]\n",
    "    \n",
    "    mail_true= sum(df['mod_mail']) #num of yes in test set\n",
    "    mail_true_rate = mail_true / df.shape[0] #proportion to yes is test set\n",
    "    buy_true = df[(df['mod_mail']==True) & (df['res1_yes']==1)] #true positives\n",
    "    \n",
    "    mail_number = wave2_target * mail_true_rate #customers to mail\n",
    "    adjusted_rr = (buy_true.shape[0] * 0.5) / mail_true #adjusted buy rate\n",
    "    wave2_buyers = adjusted_rr * mail_number #buyers in wave 2\n",
    "   \n",
    "    mail_cost = 1.41 * mail_number \n",
    "    profit = 60 * wave2_buyers - mail_cost\n",
    "    rome = profit / mail_cost\n",
    "    \n",
    "    return profit,rome"
   ]
  },
  {
   "cell_type": "code",
   "execution_count": 13,
   "metadata": {},
   "outputs": [],
   "source": [
    "# function for the lifts and gains plot\n",
    "def plot(resp):\n",
    "    # lift and gains plot\n",
    "    w = 13\n",
    "    h = 4\n",
    "    d = 100\n",
    "    fig = plt.figure(figsize=(w, h), dpi=d)\n",
    "    fig.suptitle(f\"Cumulative Lift and Gains For XGBoost Model\")\n",
    "\n",
    "    fig1 = fig.add_subplot(122)\n",
    "    fig1.set_title(\"Cumulative Gains\")\n",
    "    fig1 = rsm.gains_plot(\n",
    "        {\n",
    "            \"Training\": eval_dat.query(\"training == 1\"),\n",
    "            \"Test\": eval_dat.query(\"training == 0\"),\n",
    "        },\n",
    "        rvar=\"res1_yes\",\n",
    "        pred=resp,\n",
    "        lev=1,\n",
    "        qnt=10,\n",
    "    )\n",
    "\n",
    "    fig2 = fig.add_subplot(121)\n",
    "    fig2.set_title(\"Cumulative Lift\")\n",
    "    fig2 = rsm.lift_plot(\n",
    "        {\n",
    "            \"Training\": eval_dat.query(\"training == 1\"),\n",
    "            \"Test\": eval_dat.query(\"training == 0\"),\n",
    "        },\n",
    "        rvar=\"res1_yes\",\n",
    "        pred=resp,\n",
    "        lev=1,\n",
    "        qnt=10,\n",
    "    )"
   ]
  },
  {
   "cell_type": "code",
   "execution_count": 14,
   "metadata": {},
   "outputs": [
    {
     "name": "stdout",
     "output_type": "stream",
     "text": [
      "Wave-2 Scaled Campaign: The Profit is $452,060 and the the return on investment is 131.47% \n",
      "\n"
     ]
    },
    {
     "data": {
      "image/png": "[encoded data removed]",
      "text/plain": [
       "<Figure size 1300x400 with 2 Axes>"
      ]
     },
     "metadata": {
      "needs_background": "light"
     },
     "output_type": "display_data"
    }
   ],
   "source": [
    "plot(\"y_xgb\")\n",
    "scaled_prof, scaled_rome = w2_profit(\"y_xgb\")\n",
    "\n",
    "print(\n",
    "    f\"\"\"Wave-2 Scaled Campaign: The Profit is ${int(scaled_prof):,} and the the return on investment is {round(float(scaled_rome)*100,2):,}% \\n\"\"\"\n",
    ")"
   ]
  },
  {
   "cell_type": "code",
   "execution_count": 15,
   "metadata": {},
   "outputs": [
    {
     "name": "stdout",
     "output_type": "stream",
     "text": [
      " The output above is the result of an XGBoost model with the hyperparameters set to:\n",
      "    min_child_weight=5,\n",
      "    colsample_bylevel=1,\n",
      "    max_delta_step=0,\n",
      "    scale_pos_weight=1,\n",
      "    alpha=1,\n",
      "    reg_lambda=0,\n",
      "    learning_rate=0.01,\n",
      "    subsample=0.8,\n",
      "    colsample_bytree=1,\n",
      "    gamma=1,\n",
      "    max_depth=3,\n",
      "    n_estimators=500 \n"
     ]
    }
   ],
   "source": [
    "print(\n",
    "    f\"\"\" The output above is the result of an XGBoost model with the hyperparameters set to:\n",
    "    min_child_weight=5,\n",
    "    colsample_bylevel=1,\n",
    "    max_delta_step=0,\n",
    "    scale_pos_weight=1,\n",
    "    alpha=1,\n",
    "    reg_lambda=0,\n",
    "    learning_rate=0.01,\n",
    "    subsample=0.8,\n",
    "    colsample_bytree=1,\n",
    "    gamma=1,\n",
    "    max_depth=3,\n",
    "    n_estimators=500 \"\"\"\n",
    ")"
   ]
  },
  {
   "cell_type": "code",
   "execution_count": 16,
   "metadata": {},
   "outputs": [
    {
     "name": "stdout",
     "output_type": "stream",
     "text": [
      " The graphs above show the cumulative lift and gains for the XGBoost model predicted on both the training and test datasets. And plots and the AUC indicate a low overfitting, if any.\n",
      "  \n"
     ]
    }
   ],
   "source": [
    "print(\n",
    "    f\"\"\" The graphs above show the cumulative lift and gains for the XGBoost model predicted on both the training and test datasets. And plots and the AUC indicate a low overfitting, if any.\\n  \"\"\"\n",
    ")\n",
    "\n",
    " "
   ]
  },
  {
   "cell_type": "markdown",
   "metadata": {},
   "source": [
    "XGBoost Cross Validated Model"
   ]
  },
  {
   "cell_type": "code",
   "execution_count": 17,
   "metadata": {},
   "outputs": [],
   "source": [
    "# clf = xgb.XGBClassifier()\n",
    "# param_grid = {\n",
    "# \"colsample_bytree\": [0.3, 0.7],\n",
    "# \"n_estimators\": [500],\n",
    "# \"min_child_weight\": list(range(0,10)),\n",
    "# \"max_depth\": [3,4,5,6]\n",
    "# }\n",
    "# scoring = {\"AUC\": \"roc_auc\"}"
   ]
  },
  {
   "cell_type": "code",
   "execution_count": 18,
   "metadata": {},
   "outputs": [],
   "source": [
    "# clf_cv = GridSearchCV(\n",
    "# clf, param_grid, scoring=scoring, cv=5, n_jobs=4, refit=\"AUC\", verbose=5\n",
    "# ).fit(X_train, y_train)"
   ]
  },
  {
   "cell_type": "code",
   "execution_count": 19,
   "metadata": {},
   "outputs": [],
   "source": [
    "# print(clf_cv.best_params_)\n",
    "# print(clf_cv.best_score_)"
   ]
  },
  {
   "cell_type": "code",
   "execution_count": 20,
   "metadata": {},
   "outputs": [],
   "source": [
    "# predict for the entire dataset\n",
    "# eval_dat[\"y_xgb_cv\"] = clf_cv.best_estimator_.predict_proba(Xs)[:, 1]"
   ]
  },
  {
   "cell_type": "code",
   "execution_count": 21,
   "metadata": {},
   "outputs": [],
   "source": [
    "# Profit, Cumulative lift and gains for XGBoost Cross Validated Model"
   ]
  },
  {
   "cell_type": "code",
   "execution_count": 22,
   "metadata": {},
   "outputs": [],
   "source": [
    "# reg_prof, reg_rome, scaled_prof, scaled_rome = w2_profit(\"y_xgb_cv\")\n",
    "\n",
    "# print(\n",
    "# f\"\"\"Wave-2 Campaign: The Profit is ${int(reg_prof):,} and the the return on investment is {round(float(reg_rome)*100,2):,}% \"\"\"\n",
    "# )\n",
    "\n",
    "# print(\n",
    "# f\"\"\"Wave-2 Scaled Campaign: The Profit is ${int(scaled_prof):,} and the the return on investment is {round(float(scaled_rome)*100,2):,}% \"\"\"\n",
    "# )"
   ]
  },
  {
   "cell_type": "code",
   "execution_count": 23,
   "metadata": {},
   "outputs": [],
   "source": [
    "# plot(\"y_xgb\")"
   ]
  },
  {
   "cell_type": "code",
   "execution_count": 24,
   "metadata": {},
   "outputs": [],
   "source": [
    "eval_dat.to_csv(\"./data/XGB.csv\", index=False)"
   ]
  },
  {
   "cell_type": "code",
   "execution_count": null,
   "metadata": {},
   "outputs": [],
   "source": []
  }
 ],
 "metadata": {
  "kernelspec": {
   "display_name": "Python 3",
   "language": "python",
   "name": "python3"
  },
  "language_info": {
   "codemirror_mode": {
    "name": "ipython",
    "version": 3
   },
   "file_extension": ".py",
   "mimetype": "text/x-python",
   "name": "python",
   "nbconvert_exporter": "python",
   "pygments_lexer": "ipython3",
   "version": "3.8.5"
  }
 },
 "nbformat": 4,
 "nbformat_minor": 4
}
